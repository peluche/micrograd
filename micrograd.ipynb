{
 "cells": [
  {
   "cell_type": "markdown",
   "id": "e19f9bec",
   "metadata": {},
   "source": [
    "# micrograd\n",
    "\n",
    "Following a [tutorial from Andrej Karpathy](https://youtu.be/VMj-3S1tku0?list=PLAqhIrjkxbuWI23v9cThsA9GvCAUhRvKZ)\n",
    "\n",
    "Implementing backpropagation (gradient descent) from scratch"
   ]
  },
  {
   "cell_type": "code",
   "execution_count": 1,
   "id": "4ed8f23e",
   "metadata": {},
   "outputs": [
    {
     "name": "stdout",
     "output_type": "stream",
     "text": [
      "torch.cuda.is_available()=True\n",
      "torch.cuda.device_count()=1\n",
      "torch.cuda.get_device_name()='NVIDIA GeForce RTX 3080'\n"
     ]
    }
   ],
   "source": [
    "import torch\n",
    "\n",
    "print(f'{torch.cuda.is_available()=}')\n",
    "print(f'{torch.cuda.device_count()=}')\n",
    "print(f'{torch.cuda.get_device_name()=}')"
   ]
  },
  {
   "cell_type": "code",
   "execution_count": null,
   "id": "d5ad2f48",
   "metadata": {},
   "outputs": [],
   "source": []
  },
  {
   "cell_type": "code",
   "execution_count": null,
   "id": "37c4f48c",
   "metadata": {},
   "outputs": [],
   "source": []
  },
  {
   "cell_type": "code",
   "execution_count": null,
   "id": "d6ba25e8",
   "metadata": {},
   "outputs": [],
   "source": []
  },
  {
   "cell_type": "code",
   "execution_count": null,
   "id": "e4c3e082",
   "metadata": {},
   "outputs": [],
   "source": []
  },
  {
   "cell_type": "code",
   "execution_count": null,
   "id": "62cb39c4",
   "metadata": {},
   "outputs": [],
   "source": []
  },
  {
   "cell_type": "code",
   "execution_count": null,
   "id": "30d2cd6f",
   "metadata": {},
   "outputs": [],
   "source": []
  },
  {
   "cell_type": "code",
   "execution_count": null,
   "id": "c7fd262e",
   "metadata": {},
   "outputs": [],
   "source": []
  }
 ],
 "metadata": {
  "kernelspec": {
   "display_name": "Python 3 (ipykernel)",
   "language": "python",
   "name": "python3"
  },
  "language_info": {
   "codemirror_mode": {
    "name": "ipython",
    "version": 3
   },
   "file_extension": ".py",
   "mimetype": "text/x-python",
   "name": "python",
   "nbconvert_exporter": "python",
   "pygments_lexer": "ipython3",
   "version": "3.11.2"
  }
 },
 "nbformat": 4,
 "nbformat_minor": 5
}
